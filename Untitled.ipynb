{
 "cells": [
  {
   "cell_type": "markdown",
   "id": "fbc967e1",
   "metadata": {
    "ExecuteTime": {
     "end_time": "2023-09-13T10:46:09.509746Z",
     "start_time": "2023-09-13T10:46:08.712699Z"
    }
   },
   "source": [
    "# APIs\n"
   ]
  },
  {
   "cell_type": "code",
   "execution_count": 1,
   "id": "27d2a257",
   "metadata": {
    "ExecuteTime": {
     "end_time": "2023-09-14T13:18:56.110124Z",
     "start_time": "2023-09-14T13:18:55.246599Z"
    }
   },
   "outputs": [
    {
     "data": {
      "text/plain": [
       "{'searchBy': 'dublin',\n",
       " 'count': 1,\n",
       " 'items': [{'icao': 'EIDW',\n",
       "   'iata': 'DUB',\n",
       "   'name': 'Dublin ',\n",
       "   'shortName': 'Dublin',\n",
       "   'municipalityName': 'Dublin',\n",
       "   'location': {'lat': 53.4213, 'lon': -6.27007},\n",
       "   'countryCode': 'IE'}]}"
      ]
     },
     "execution_count": 1,
     "metadata": {},
     "output_type": "execute_result"
    }
   ],
   "source": [
    "import requests\n",
    "import pandas as pd\n",
    "\n",
    "\n",
    "url = \"https://aerodatabox.p.rapidapi.com/airports/search/term\"\n",
    "\n",
    "querystring = {\"q\":\"dublin\",\"limit\":\"1\"}\n",
    "\n",
    "headers = {\n",
    "    'x-rapidapi-host': \"aerodatabox.p.rapidapi.com\",\n",
    "    'x-rapidapi-key': \"9613ca6ca5msh62659872159916fp1a0a2cjsndd9a3e6ff324\"\n",
    "    }\n",
    "\n",
    "response = requests.get(url, headers=headers, params=querystring)\n",
    "response.json()"
   ]
  },
  {
   "cell_type": "code",
   "execution_count": 2,
   "id": "f847eee3",
   "metadata": {
    "ExecuteTime": {
     "end_time": "2023-09-14T13:18:56.141435Z",
     "start_time": "2023-09-14T13:18:56.115328Z"
    }
   },
   "outputs": [
    {
     "data": {
      "text/html": [
       "<div>\n",
       "<style scoped>\n",
       "    .dataframe tbody tr th:only-of-type {\n",
       "        vertical-align: middle;\n",
       "    }\n",
       "\n",
       "    .dataframe tbody tr th {\n",
       "        vertical-align: top;\n",
       "    }\n",
       "\n",
       "    .dataframe thead th {\n",
       "        text-align: right;\n",
       "    }\n",
       "</style>\n",
       "<table border=\"1\" class=\"dataframe\">\n",
       "  <thead>\n",
       "    <tr style=\"text-align: right;\">\n",
       "      <th></th>\n",
       "      <th>icao</th>\n",
       "      <th>iata</th>\n",
       "      <th>name</th>\n",
       "      <th>shortName</th>\n",
       "      <th>municipalityName</th>\n",
       "      <th>countryCode</th>\n",
       "      <th>location.lat</th>\n",
       "      <th>location.lon</th>\n",
       "    </tr>\n",
       "  </thead>\n",
       "  <tbody>\n",
       "    <tr>\n",
       "      <th>0</th>\n",
       "      <td>EIDW</td>\n",
       "      <td>DUB</td>\n",
       "      <td>Dublin</td>\n",
       "      <td>Dublin</td>\n",
       "      <td>Dublin</td>\n",
       "      <td>IE</td>\n",
       "      <td>53.4213</td>\n",
       "      <td>-6.27007</td>\n",
       "    </tr>\n",
       "  </tbody>\n",
       "</table>\n",
       "</div>"
      ],
      "text/plain": [
       "   icao iata     name shortName municipalityName countryCode  location.lat   \n",
       "0  EIDW  DUB  Dublin     Dublin           Dublin          IE       53.4213  \\\n",
       "\n",
       "   location.lon  \n",
       "0      -6.27007  "
      ]
     },
     "execution_count": 2,
     "metadata": {},
     "output_type": "execute_result"
    }
   ],
   "source": [
    "# Normalizing the response\n",
    "r_json = response.json()\n",
    "df_json = pd.json_normalize(r_json['items'])\n",
    "df_json"
   ]
  },
  {
   "cell_type": "code",
   "execution_count": 3,
   "id": "1038bbfe",
   "metadata": {
    "ExecuteTime": {
     "end_time": "2023-09-14T13:18:56.486789Z",
     "start_time": "2023-09-14T13:18:56.143958Z"
    }
   },
   "outputs": [
    {
     "name": "stdout",
     "output_type": "stream",
     "text": [
      "{'from': {'icao': 'LPPT', 'iata': 'LIS', 'name': 'Lisbon Portela', 'shortName': 'Portela', 'municipalityName': 'Lisbon', 'location': {'lat': 38.7813, 'lon': -9.135919}, 'countryCode': 'PT'}, 'to': {'icao': 'MRFL', 'iata': 'FMG', 'name': 'Brasilito Flamingo', 'shortName': 'Flamingo', 'municipalityName': 'Brasilito', 'location': {'lat': 10.4186, 'lon': -85.7827}, 'countryCode': 'CR'}, 'greatCircleDistance': {'meter': 8138000.5, 'km': 8138.0, 'mile': 5056.72, 'nm': 4394.17, 'feet': 26699476.71}, 'approxFlightTime': '10:05:00'}\n"
     ]
    }
   ],
   "source": [
    "icao_from = 'LPPT'\n",
    "icao_to = 'MRFL'\n",
    "\n",
    "url = f\"https://aerodatabox.p.rapidapi.com/airports/icao/{icao_from}/distance-time/{icao_to}\"\n",
    "\n",
    "response = requests.get(url, headers=headers)\n",
    "\n",
    "print(response.json())"
   ]
  },
  {
   "cell_type": "code",
   "execution_count": 4,
   "id": "d22f7cd1",
   "metadata": {
    "ExecuteTime": {
     "end_time": "2023-09-14T13:18:56.521423Z",
     "start_time": "2023-09-14T13:18:56.493045Z"
    }
   },
   "outputs": [
    {
     "data": {
      "text/html": [
       "<div>\n",
       "<style scoped>\n",
       "    .dataframe tbody tr th:only-of-type {\n",
       "        vertical-align: middle;\n",
       "    }\n",
       "\n",
       "    .dataframe tbody tr th {\n",
       "        vertical-align: top;\n",
       "    }\n",
       "\n",
       "    .dataframe thead th {\n",
       "        text-align: right;\n",
       "    }\n",
       "</style>\n",
       "<table border=\"1\" class=\"dataframe\">\n",
       "  <thead>\n",
       "    <tr style=\"text-align: right;\">\n",
       "      <th></th>\n",
       "      <th>approxFlightTime</th>\n",
       "      <th>from.icao</th>\n",
       "      <th>from.iata</th>\n",
       "      <th>from.name</th>\n",
       "      <th>from.shortName</th>\n",
       "      <th>from.municipalityName</th>\n",
       "      <th>from.location.lat</th>\n",
       "      <th>from.location.lon</th>\n",
       "      <th>from.countryCode</th>\n",
       "      <th>to.icao</th>\n",
       "      <th>...</th>\n",
       "      <th>to.shortName</th>\n",
       "      <th>to.municipalityName</th>\n",
       "      <th>to.location.lat</th>\n",
       "      <th>to.location.lon</th>\n",
       "      <th>to.countryCode</th>\n",
       "      <th>greatCircleDistance.meter</th>\n",
       "      <th>greatCircleDistance.km</th>\n",
       "      <th>greatCircleDistance.mile</th>\n",
       "      <th>greatCircleDistance.nm</th>\n",
       "      <th>greatCircleDistance.feet</th>\n",
       "    </tr>\n",
       "  </thead>\n",
       "  <tbody>\n",
       "    <tr>\n",
       "      <th>0</th>\n",
       "      <td>10:05:00</td>\n",
       "      <td>LPPT</td>\n",
       "      <td>LIS</td>\n",
       "      <td>Lisbon Portela</td>\n",
       "      <td>Portela</td>\n",
       "      <td>Lisbon</td>\n",
       "      <td>38.7813</td>\n",
       "      <td>-9.135919</td>\n",
       "      <td>PT</td>\n",
       "      <td>MRFL</td>\n",
       "      <td>...</td>\n",
       "      <td>Flamingo</td>\n",
       "      <td>Brasilito</td>\n",
       "      <td>10.4186</td>\n",
       "      <td>-85.7827</td>\n",
       "      <td>CR</td>\n",
       "      <td>8138000.5</td>\n",
       "      <td>8138.0</td>\n",
       "      <td>5056.72</td>\n",
       "      <td>4394.17</td>\n",
       "      <td>26699476.71</td>\n",
       "    </tr>\n",
       "  </tbody>\n",
       "</table>\n",
       "<p>1 rows × 22 columns</p>\n",
       "</div>"
      ],
      "text/plain": [
       "  approxFlightTime from.icao from.iata       from.name from.shortName   \n",
       "0         10:05:00      LPPT       LIS  Lisbon Portela        Portela  \\\n",
       "\n",
       "  from.municipalityName  from.location.lat  from.location.lon   \n",
       "0                Lisbon            38.7813          -9.135919  \\\n",
       "\n",
       "  from.countryCode to.icao  ... to.shortName to.municipalityName   \n",
       "0               PT    MRFL  ...     Flamingo           Brasilito  \\\n",
       "\n",
       "  to.location.lat to.location.lon  to.countryCode  greatCircleDistance.meter   \n",
       "0         10.4186        -85.7827              CR                  8138000.5  \\\n",
       "\n",
       "  greatCircleDistance.km  greatCircleDistance.mile  greatCircleDistance.nm   \n",
       "0                 8138.0                   5056.72                 4394.17  \\\n",
       "\n",
       "   greatCircleDistance.feet  \n",
       "0               26699476.71  \n",
       "\n",
       "[1 rows x 22 columns]"
      ]
     },
     "execution_count": 4,
     "metadata": {},
     "output_type": "execute_result"
    }
   ],
   "source": [
    "pd.json_normalize(response.json())"
   ]
  },
  {
   "cell_type": "code",
   "execution_count": 5,
   "id": "26f3c88b",
   "metadata": {
    "ExecuteTime": {
     "end_time": "2023-09-14T13:18:56.531941Z",
     "start_time": "2023-09-14T13:18:56.523854Z"
    }
   },
   "outputs": [],
   "source": [
    "headers = {\n",
    "    'x-rapidapi-host': \"aerodatabox.p.rapidapi.com\",\n",
    "    'x-rapidapi-key': \"9613ca6ca5msh62659872159916fp1a0a2cjsndd9a3e6ff324\"\n",
    "    }\n",
    "\n",
    "\n",
    "def get_codes():\n",
    "\n",
    "    location = input('Insert location:')\n",
    "    print()\n",
    "\n",
    "    url = \"https://aerodatabox.p.rapidapi.com/airports/search/term\"\n",
    "    querystring = {\"q\":location.lower(), \"limit\":\"1\"}\n",
    "\n",
    "    response = requests.get(url, headers=headers, params=querystring)\n",
    "    codes = response.json()['items'] if 'items' in response.json() else location\n",
    "\n",
    "    return codes\n",
    "\n",
    "\n",
    "def choose_code():\n",
    "\n",
    "    codes = get_codes()\n",
    "\n",
    "    while type(codes) is str or len(set([code['shortName'] for code in codes])) != 1:\n",
    "\n",
    "        if not codes:\n",
    "            print('Try another location. Unable to find code for:', codes, '\\n')\n",
    "        else:\n",
    "            print('More than one location found. Insert one of the following airports:', [code['shortName'] for code in codes], '\\n')\n",
    "\n",
    "        codes = get_codes()\n",
    "\n",
    "    return codes[0]['icao']\n",
    "\n",
    "\n",
    "def flight_distance_time(from_, to_):\n",
    "    url = f\"https://aerodatabox.p.rapidapi.com/airports/icao/{from_}/distance-time/{to_}\"\n",
    "    response = requests.get(url, headers=headers)\n",
    "    return pd.json_normalize(response.json()).T"
   ]
  },
  {
   "cell_type": "code",
   "execution_count": 7,
   "id": "cb2b8f7f",
   "metadata": {
    "ExecuteTime": {
     "end_time": "2023-09-14T13:19:23.824370Z",
     "start_time": "2023-09-14T13:19:12.400263Z"
    }
   },
   "outputs": [
    {
     "name": "stdout",
     "output_type": "stream",
     "text": [
      "[DEPARTURE]\n",
      "Insert location:paris\n",
      "\n",
      "[DESTINATION]\n",
      "Insert location:dallas\n",
      "\n"
     ]
    },
    {
     "data": {
      "text/html": [
       "<div>\n",
       "<style scoped>\n",
       "    .dataframe tbody tr th:only-of-type {\n",
       "        vertical-align: middle;\n",
       "    }\n",
       "\n",
       "    .dataframe tbody tr th {\n",
       "        vertical-align: top;\n",
       "    }\n",
       "\n",
       "    .dataframe thead th {\n",
       "        text-align: right;\n",
       "    }\n",
       "</style>\n",
       "<table border=\"1\" class=\"dataframe\">\n",
       "  <thead>\n",
       "    <tr style=\"text-align: right;\">\n",
       "      <th></th>\n",
       "      <th>0</th>\n",
       "    </tr>\n",
       "  </thead>\n",
       "  <tbody>\n",
       "    <tr>\n",
       "      <th>approxFlightTime</th>\n",
       "      <td>09:50:00</td>\n",
       "    </tr>\n",
       "    <tr>\n",
       "      <th>from.icao</th>\n",
       "      <td>LFPG</td>\n",
       "    </tr>\n",
       "    <tr>\n",
       "      <th>from.iata</th>\n",
       "      <td>CDG</td>\n",
       "    </tr>\n",
       "    <tr>\n",
       "      <th>from.name</th>\n",
       "      <td>Paris Charles de Gaulle</td>\n",
       "    </tr>\n",
       "    <tr>\n",
       "      <th>from.shortName</th>\n",
       "      <td>Charles de Gaulle</td>\n",
       "    </tr>\n",
       "    <tr>\n",
       "      <th>from.municipalityName</th>\n",
       "      <td>Paris</td>\n",
       "    </tr>\n",
       "    <tr>\n",
       "      <th>from.location.lat</th>\n",
       "      <td>49.0128</td>\n",
       "    </tr>\n",
       "    <tr>\n",
       "      <th>from.location.lon</th>\n",
       "      <td>2.549999</td>\n",
       "    </tr>\n",
       "    <tr>\n",
       "      <th>from.countryCode</th>\n",
       "      <td>FR</td>\n",
       "    </tr>\n",
       "    <tr>\n",
       "      <th>to.icao</th>\n",
       "      <td>KDAL</td>\n",
       "    </tr>\n",
       "    <tr>\n",
       "      <th>to.iata</th>\n",
       "      <td>DAL</td>\n",
       "    </tr>\n",
       "    <tr>\n",
       "      <th>to.name</th>\n",
       "      <td>Dallas Love Field</td>\n",
       "    </tr>\n",
       "    <tr>\n",
       "      <th>to.shortName</th>\n",
       "      <td>Love Field</td>\n",
       "    </tr>\n",
       "    <tr>\n",
       "      <th>to.municipalityName</th>\n",
       "      <td>Dallas</td>\n",
       "    </tr>\n",
       "    <tr>\n",
       "      <th>to.location.lat</th>\n",
       "      <td>32.8471</td>\n",
       "    </tr>\n",
       "    <tr>\n",
       "      <th>to.location.lon</th>\n",
       "      <td>-96.8518</td>\n",
       "    </tr>\n",
       "    <tr>\n",
       "      <th>to.countryCode</th>\n",
       "      <td>US</td>\n",
       "    </tr>\n",
       "    <tr>\n",
       "      <th>greatCircleDistance.meter</th>\n",
       "      <td>7954562.39</td>\n",
       "    </tr>\n",
       "    <tr>\n",
       "      <th>greatCircleDistance.km</th>\n",
       "      <td>7954.56</td>\n",
       "    </tr>\n",
       "    <tr>\n",
       "      <th>greatCircleDistance.mile</th>\n",
       "      <td>4942.74</td>\n",
       "    </tr>\n",
       "    <tr>\n",
       "      <th>greatCircleDistance.nm</th>\n",
       "      <td>4295.12</td>\n",
       "    </tr>\n",
       "    <tr>\n",
       "      <th>greatCircleDistance.feet</th>\n",
       "      <td>26097645.65</td>\n",
       "    </tr>\n",
       "  </tbody>\n",
       "</table>\n",
       "</div>"
      ],
      "text/plain": [
       "                                                 0\n",
       "approxFlightTime                          09:50:00\n",
       "from.icao                                     LFPG\n",
       "from.iata                                      CDG\n",
       "from.name                  Paris Charles de Gaulle\n",
       "from.shortName                   Charles de Gaulle\n",
       "from.municipalityName                        Paris\n",
       "from.location.lat                          49.0128\n",
       "from.location.lon                         2.549999\n",
       "from.countryCode                                FR\n",
       "to.icao                                       KDAL\n",
       "to.iata                                        DAL\n",
       "to.name                          Dallas Love Field\n",
       "to.shortName                            Love Field\n",
       "to.municipalityName                         Dallas\n",
       "to.location.lat                            32.8471\n",
       "to.location.lon                           -96.8518\n",
       "to.countryCode                                  US\n",
       "greatCircleDistance.meter               7954562.39\n",
       "greatCircleDistance.km                     7954.56\n",
       "greatCircleDistance.mile                   4942.74\n",
       "greatCircleDistance.nm                     4295.12\n",
       "greatCircleDistance.feet               26097645.65"
      ]
     },
     "execution_count": 7,
     "metadata": {},
     "output_type": "execute_result"
    }
   ],
   "source": [
    "print('[DEPARTURE]')\n",
    "from_ = choose_code()\n",
    "print('[DESTINATION]')\n",
    "to_ = choose_code()\n",
    "\n",
    "flight_df = flight_distance_time(from_, to_)\n",
    "flight_df"
   ]
  },
  {
   "cell_type": "code",
   "execution_count": 12,
   "id": "84634674",
   "metadata": {
    "ExecuteTime": {
     "end_time": "2023-09-14T13:30:06.315184Z",
     "start_time": "2023-09-14T13:30:05.713349Z"
    }
   },
   "outputs": [
    {
     "name": "stdout",
     "output_type": "stream",
     "text": [
      "{'info': {'category': 'Billboard', 'chart': 'HOT 100', 'date': '2023-09-16', 'source': 'Billboard-API'}, 'content': {'1': {'rank': '1', 'title': 'Paint The Town Red', 'artist': 'Doja Cat', 'weeks at no.1': '1', 'last week': '3', 'peak position': '1', 'weeks on chart': '5', 'detail': 'up'}, '2': {'rank': '2', 'title': 'I Remember Everything', 'artist': 'Zach Bryan Featuring Kacey Musgraves', 'last week': '1', 'peak position': '1', 'weeks on chart': '2', 'detail': 'down'}, '3': {'rank': '3', 'title': 'Fast Car', 'artist': 'Luke Combs', 'last week': '2', 'peak position': '2', 'weeks on chart': '24', 'detail': 'down'}, '4': {'rank': '4', 'title': 'Cruel Summer', 'artist': 'Taylor Swift', 'last week': '5', 'peak position': '3', 'weeks on chart': '18', 'detail': 'up'}, '5': {'rank': '5', 'title': 'Last Night', 'artist': 'Morgan Wallen', 'last week': '4', 'peak position': '1', 'weeks on chart': '32', 'detail': 'down'}, '6': {'rank': '6', 'title': 'Dance The Night', 'artist': 'Dua Lipa', 'last week': '9', 'peak position': '6', 'weeks on chart': '15', 'detail': 'up'}, '7': {'rank': '7', 'title': 'Snooze', 'artist': 'SZA', 'last week': '7', 'peak position': '7', 'weeks on chart': '39', 'detail': 'same'}, '8': {'rank': '8', 'title': 'Fukumean', 'artist': 'Gunna', 'last week': '10', 'peak position': '4', 'weeks on chart': '12', 'detail': 'up'}, '9': {'rank': '9', 'title': 'Vampire', 'artist': 'Olivia Rodrigo', 'last week': '12', 'peak position': '1', 'weeks on chart': '10', 'detail': 'up'}, '10': {'rank': '10', 'title': 'Calm Down', 'artist': 'Rema & Selena Gomez', 'last week': '11', 'peak position': '3', 'weeks on chart': '53', 'detail': 'up'}}, 'notice': 'This plan is only available up to the top 10 in the ranking. For more ranking information, please upgrade your plan.'}\n"
     ]
    }
   ],
   "source": [
    "url = \"https://billboard-api2.p.rapidapi.com/hot-100\"\n",
    "\n",
    "querystring = {\"date\":\"2023-09-14\",\"range\":\"1-100\"}\n",
    "\n",
    "headers = {\n",
    "\t\"X-RapidAPI-Key\": \"794b62383emshac3b016b8f5c37ep15772ajsn44b333a3023d\",\n",
    "\t\"X-RapidAPI-Host\": \"billboard-api2.p.rapidapi.com\"\n",
    "}\n",
    "\n",
    "response = requests.get(url, headers=headers, params=querystring)\n",
    "\n",
    "print(response.json())"
   ]
  },
  {
   "cell_type": "code",
   "execution_count": 20,
   "id": "e947f796",
   "metadata": {
    "ExecuteTime": {
     "end_time": "2023-09-14T13:37:04.895222Z",
     "start_time": "2023-09-14T13:37:04.872810Z"
    }
   },
   "outputs": [
    {
     "data": {
      "text/html": [
       "<div>\n",
       "<style scoped>\n",
       "    .dataframe tbody tr th:only-of-type {\n",
       "        vertical-align: middle;\n",
       "    }\n",
       "\n",
       "    .dataframe tbody tr th {\n",
       "        vertical-align: top;\n",
       "    }\n",
       "\n",
       "    .dataframe thead th {\n",
       "        text-align: right;\n",
       "    }\n",
       "</style>\n",
       "<table border=\"1\" class=\"dataframe\">\n",
       "  <thead>\n",
       "    <tr style=\"text-align: right;\">\n",
       "      <th></th>\n",
       "      <th>0</th>\n",
       "      <th>category</th>\n",
       "      <th>chart</th>\n",
       "      <th>date</th>\n",
       "      <th>source</th>\n",
       "    </tr>\n",
       "  </thead>\n",
       "  <tbody>\n",
       "    <tr>\n",
       "      <th>1.rank</th>\n",
       "      <td>1</td>\n",
       "      <td>Billboard</td>\n",
       "      <td>HOT 100</td>\n",
       "      <td>2023-09-16</td>\n",
       "      <td>Billboard-API</td>\n",
       "    </tr>\n",
       "    <tr>\n",
       "      <th>1.title</th>\n",
       "      <td>Paint The Town Red</td>\n",
       "      <td>Billboard</td>\n",
       "      <td>HOT 100</td>\n",
       "      <td>2023-09-16</td>\n",
       "      <td>Billboard-API</td>\n",
       "    </tr>\n",
       "    <tr>\n",
       "      <th>1.artist</th>\n",
       "      <td>Doja Cat</td>\n",
       "      <td>Billboard</td>\n",
       "      <td>HOT 100</td>\n",
       "      <td>2023-09-16</td>\n",
       "      <td>Billboard-API</td>\n",
       "    </tr>\n",
       "    <tr>\n",
       "      <th>1.weeks at no.1</th>\n",
       "      <td>1</td>\n",
       "      <td>Billboard</td>\n",
       "      <td>HOT 100</td>\n",
       "      <td>2023-09-16</td>\n",
       "      <td>Billboard-API</td>\n",
       "    </tr>\n",
       "    <tr>\n",
       "      <th>1.last week</th>\n",
       "      <td>3</td>\n",
       "      <td>Billboard</td>\n",
       "      <td>HOT 100</td>\n",
       "      <td>2023-09-16</td>\n",
       "      <td>Billboard-API</td>\n",
       "    </tr>\n",
       "    <tr>\n",
       "      <th>...</th>\n",
       "      <td>...</td>\n",
       "      <td>...</td>\n",
       "      <td>...</td>\n",
       "      <td>...</td>\n",
       "      <td>...</td>\n",
       "    </tr>\n",
       "    <tr>\n",
       "      <th>10.artist</th>\n",
       "      <td>Rema &amp; Selena Gomez</td>\n",
       "      <td>Billboard</td>\n",
       "      <td>HOT 100</td>\n",
       "      <td>2023-09-16</td>\n",
       "      <td>Billboard-API</td>\n",
       "    </tr>\n",
       "    <tr>\n",
       "      <th>10.last week</th>\n",
       "      <td>11</td>\n",
       "      <td>Billboard</td>\n",
       "      <td>HOT 100</td>\n",
       "      <td>2023-09-16</td>\n",
       "      <td>Billboard-API</td>\n",
       "    </tr>\n",
       "    <tr>\n",
       "      <th>10.peak position</th>\n",
       "      <td>3</td>\n",
       "      <td>Billboard</td>\n",
       "      <td>HOT 100</td>\n",
       "      <td>2023-09-16</td>\n",
       "      <td>Billboard-API</td>\n",
       "    </tr>\n",
       "    <tr>\n",
       "      <th>10.weeks on chart</th>\n",
       "      <td>53</td>\n",
       "      <td>Billboard</td>\n",
       "      <td>HOT 100</td>\n",
       "      <td>2023-09-16</td>\n",
       "      <td>Billboard-API</td>\n",
       "    </tr>\n",
       "    <tr>\n",
       "      <th>10.detail</th>\n",
       "      <td>up</td>\n",
       "      <td>Billboard</td>\n",
       "      <td>HOT 100</td>\n",
       "      <td>2023-09-16</td>\n",
       "      <td>Billboard-API</td>\n",
       "    </tr>\n",
       "  </tbody>\n",
       "</table>\n",
       "<p>71 rows × 5 columns</p>\n",
       "</div>"
      ],
      "text/plain": [
       "                                     0   category    chart        date   \n",
       "1.rank                               1  Billboard  HOT 100  2023-09-16  \\\n",
       "1.title             Paint The Town Red  Billboard  HOT 100  2023-09-16   \n",
       "1.artist                      Doja Cat  Billboard  HOT 100  2023-09-16   \n",
       "1.weeks at no.1                      1  Billboard  HOT 100  2023-09-16   \n",
       "1.last week                          3  Billboard  HOT 100  2023-09-16   \n",
       "...                                ...        ...      ...         ...   \n",
       "10.artist          Rema & Selena Gomez  Billboard  HOT 100  2023-09-16   \n",
       "10.last week                        11  Billboard  HOT 100  2023-09-16   \n",
       "10.peak position                     3  Billboard  HOT 100  2023-09-16   \n",
       "10.weeks on chart                   53  Billboard  HOT 100  2023-09-16   \n",
       "10.detail                           up  Billboard  HOT 100  2023-09-16   \n",
       "\n",
       "                          source  \n",
       "1.rank             Billboard-API  \n",
       "1.title            Billboard-API  \n",
       "1.artist           Billboard-API  \n",
       "1.weeks at no.1    Billboard-API  \n",
       "1.last week        Billboard-API  \n",
       "...                          ...  \n",
       "10.artist          Billboard-API  \n",
       "10.last week       Billboard-API  \n",
       "10.peak position   Billboard-API  \n",
       "10.weeks on chart  Billboard-API  \n",
       "10.detail          Billboard-API  \n",
       "\n",
       "[71 rows x 5 columns]"
      ]
     },
     "execution_count": 20,
     "metadata": {},
     "output_type": "execute_result"
    }
   ],
   "source": [
    "r_json = response.json()\n",
    "bill_json = pd.json_normalize(r_json['content']).T\n",
    "for key, value in r_json['info'].items():\n",
    "    bill_json[key] = value\n",
    "    \n",
    "bill_json"
   ]
  },
  {
   "cell_type": "code",
   "execution_count": 29,
   "id": "a89c0cee",
   "metadata": {
    "ExecuteTime": {
     "end_time": "2023-09-14T13:50:41.361638Z",
     "start_time": "2023-09-14T13:50:40.755457Z"
    }
   },
   "outputs": [
    {
     "name": "stdout",
     "output_type": "stream",
     "text": [
      "{'success': True, 'body': [{'_id': '60dd35c12413443a5a5f6e09', 'setup': 'Who do you call the underwater seaspy?', 'punchline': 'James Pond', 'type': 'call', 'likes': [], 'author': {'name': 'unknown', 'id': None}, 'approved': True, 'date': 1618108661, 'NSFW': False, 'shareableLink': 'https://dadjokes.io/joke/60dd35c12413443a5a5f6e09'}]}\n"
     ]
    }
   ],
   "source": [
    "url = \"https://dad-jokes.p.rapidapi.com/random/joke\"\n",
    "\n",
    "headers = {\n",
    "\t\"X-RapidAPI-Key\": \"794b62383emshac3b016b8f5c37ep15772ajsn44b333a3023d\",\n",
    "\t\"X-RapidAPI-Host\": \"dad-jokes.p.rapidapi.com\"\n",
    "}\n",
    "\n",
    "response = requests.get(url, headers=headers)\n",
    "\n",
    "print(response.json())"
   ]
  },
  {
   "cell_type": "code",
   "execution_count": 30,
   "id": "c8739bfe",
   "metadata": {
    "ExecuteTime": {
     "end_time": "2023-09-14T13:50:42.138242Z",
     "start_time": "2023-09-14T13:50:42.132505Z"
    }
   },
   "outputs": [
    {
     "name": "stdout",
     "output_type": "stream",
     "text": [
      "Joke: Who do you call the underwater seaspy?\n",
      "Punchline: James Pond\n"
     ]
    }
   ],
   "source": [
    "r_json = response.json()\n",
    "joke = r_json['body'][0]['setup']\n",
    "punchline = r_json['body'][0]['punchline']\n",
    "\n",
    "print('Joke:', joke)\n",
    "print('Punchline:', punchline)"
   ]
  },
  {
   "cell_type": "code",
   "execution_count": null,
   "id": "3c25e8d1",
   "metadata": {},
   "outputs": [],
   "source": []
  }
 ],
 "metadata": {
  "kernelspec": {
   "display_name": "Python 3 (ipykernel)",
   "language": "python",
   "name": "python3"
  },
  "language_info": {
   "codemirror_mode": {
    "name": "ipython",
    "version": 3
   },
   "file_extension": ".py",
   "mimetype": "text/x-python",
   "name": "python",
   "nbconvert_exporter": "python",
   "pygments_lexer": "ipython3",
   "version": "3.10.9"
  }
 },
 "nbformat": 4,
 "nbformat_minor": 5
}
